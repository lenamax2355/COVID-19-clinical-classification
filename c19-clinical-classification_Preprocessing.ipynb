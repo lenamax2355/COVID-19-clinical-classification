{
 "cells": [
  {
   "cell_type": "markdown",
   "metadata": {
    "ExecuteTime": {
     "end_time": "2020-06-02T20:25:18.878753Z",
     "start_time": "2020-06-02T20:25:18.847462Z"
    }
   },
   "source": [
    "# EXPLORATORY DATA ANALYSIS - RÉSUMÉ\n",
    "\n",
    "**Analyse de la forme:**\n",
    "- **variable target :** SARS-Cov-2 exam result\n",
    "- **lignes et colonnes :** (5644, 111)\n",
    "- **types de variables :** 70 qualitatives, 41 quantitatives\n",
    "- **analyse des valeurs manquantes :** \n",
    "    - beaucoup de NaN (moitié des variables ont >90% de NaN)\n",
    "    - 2 groupes de données: 76% -> test viral ; 89% -> taux sanguins \n",
    "\n",
    "**Analyse du fond:**\n",
    "- **visualisation de la target  :**\n",
    "    - 10% de positifs\n",
    "- **signification des variables :**\n",
    "    - variables continues : standardisées, skewed (asymétriques), tests sanguin\n",
    "    - age quantile : difficile d'interpréter ce graphique, clairement ces données ont été traitées. On pourrait penser tranches d'âges de 5 ans, mais cela pourrait aussi être une transformation mathématiques. On ne peut pas savoir car la personne qui a mit ce dataset ne le précise nul part. Mais pas très important.\n",
    "    - variables qualitatives : binaire, viral ; détection de Rhinovirus/Enterovirus semble très élevée.\n",
    "- **relations variables / target :**\n",
    "    - target / blood : les taux de Monocytes, Platelets et Leukocytes semblent liés au covid- -> hypothèse à tester.\n",
    "    - target / age : les individus de faible age sont très peu contaminés ? Attention on ne connait pas l'age, et on ne sait pas de quand date le dataset (s'il s'agit d'enfants on sait que les enfants sont touchés autant que les adultes). En revanche cette variable pourra être intéressante pour la comparer avec les résultats de tests sanguins.\n",
    "    - target / viral : les doubles maladies sont très rares. Rhinovirus/Enterovirus positif - covid19 négatif? -> hypothèse à tester? Mais il est possible que la région ait subie une épidémie de ce virus. De plus, on peut très bien avoir deux virus en même temps. Tout ça n'a aucun lien avec le covid19.\n",
    "    \n",
    "    \n",
    "**Conclusions initiales :**\n",
    "- Beaucoup de données manquantes (au mieux on garde 20% du dataset)\n",
    "- 2 groupes de données intéressantes (viral, sanguin)\n",
    "- Presque pas de variable \"discriminante\" pour distinguer les cas positifs/négatifs, ce qui nous permet de dire qu'il n'est pas vraiment approprié de vouloir prédire si un individu est atteint du COVID-19 en se basant sur ces simples tests sanguins. Pas grave, il faut quand même poursuivre l'analyse pour essayer de voir ce qu'il peut apprendre. Un bon data scientist va jusqu'au bout de sa mission. Si en cours de route on se rend compte que l'histoire n'est pas aussi simple qu'on pouvait espérer, alors il faut pouvoir le démontrer de façon robuste en allant jusqu'au bout des choses (underfitting? overfitting? expliquer ce qu'il se passe).\n",
    "- Quand même quelque chose de positif : on peut identifier des variables intéressantes qui sont susceptibles de jouer un rôle non négligeable (monocytes etc.).\n",
    "\n",
    "Pour aller plus loin, on va étudier les relations entre les variables, les NaN, et tester des hypothèses émises précédemment.\n",
    "\n",
    "- **Relations variables / variables :**\n",
    "    - **blood_data / blood_data :** certaines variables sont très corrélées (+0.9), à surveiller plus tard.\n",
    "    - **blood_data / age :** très faible corrélation entre age et taux sanguins.\n",
    "    - **viral / viral :** Influenza rapid test donne de mauvais résultats, il faudra peut-être la laisser tomber.\n",
    "    - **maladie / blood_data :** les taux sanguins entre malades et covid-19 sont différents. A tester avec une hypothèse.\n",
    "    - **hospitalisation / blood :** intéressant dans le cas où on veut prédire dans quelle service un patient devrait aller.\n",
    "    - **hospitalisation / est malade :** aucune tendance ne se dégage, mis à part le fait que la plupart des personnes placées en suiveillance ne sont pas malades (pas fait dans la vidéo, remarque perso).\n",
    "    \n",
    "\n",
    "- **NaN analyse :** valeurs restantes après un dropna:\n",
    "    - sur tout le dataset: 90\n",
    "    - groupe viral: 1350 (répartition target 92/8)\n",
    "    - groupe blood: 600 (répartition target 87/13)\n",
    "\n",
    "**Hypotheses nulles (H0)**:\n",
    "\n",
    "Pour chaque hypothèse, on va utiliser un **test de student** qui permet de vérifier si la moyenne entre 2 distributions est significativement différente. Pour cela, on émet une hypothèse nulle dans laquelle on suppose que les moyennes sont égales entre nos 2 distributions. Le principe du test de student est d'essayer de rejeter cette hypothèse nulle. On définit un seuil alpha (généralement autours de 2% ou 5%), on calcule une valeur-p grâce au test, et si la valeur-p est inférieure au seuil de probabilité alpha alors on peut rejeter l'hypothèse nulle (sinon on ne peut pas rejeter l'hypothèse nulle, mais rien de plus).\n",
    "- Les individus atteints du covid-19 ont des taux de Leukocytes, Monocytes, Platelets significativement différents\n",
    "    - **H0 :** Les taux moyens sont égaux chez les individus positifs et négatifs\n",
    "    - **Conclusions :** les Platelets, les Leukocytes, les Monocytes (et les Eosinophils) semblent être des variables significativement différentes entre les gens atteints et non atteints du covid-19.\n",
    "\n",
    "- Les individus atteints d'une quelconque maladie ont des taux sanguins significativement différents.\n",
    "    - **H0 :** Les taux moyens sont égaux chez les individus malades et non malades\n",
    "    - **Conclusion :** L'hypothèse nulle ne peut être rejetée.\n",
    "    \n",
    "Remarque sur le test d'hypothèse : vu qu'on échantillonne pour avoir des classes équilibrées, on réalise le test plusieurs fois et on utilise la p-value moyenne."
   ]
  },
  {
   "cell_type": "code",
   "execution_count": 87,
   "metadata": {
    "ExecuteTime": {
     "end_time": "2020-06-02T21:53:04.935492Z",
     "start_time": "2020-06-02T21:53:03.811619Z"
    }
   },
   "outputs": [],
   "source": [
    "import numpy as np\n",
    "import pandas as pd\n",
    "import matplotlib.pyplot as plt\n",
    "import seaborn as sns\n",
    "\n",
    "import missingno as msno\n",
    "\n",
    "from sklearn.pipeline import make_pipeline\n",
    "from sklearn.compose import make_column_transformer, make_column_selector\n",
    "from sklearn.impute import SimpleImputer\n",
    "from sklearn.preprocessing import LabelEncoder, OrdinalEncoder, OneHotEncoder\n",
    "from sklearn.preprocessing import StandardScaler\n",
    "\n",
    "from sklearn.model_selection import train_test_split\n",
    "from sklearn.metrics import precision_score, recall_score, f1_score\n",
    "\n",
    "dataset = pd.read_excel(\"data/dataset_covid19.xlsx\")"
   ]
  },
  {
   "cell_type": "code",
   "execution_count": 58,
   "metadata": {
    "ExecuteTime": {
     "end_time": "2020-06-02T21:43:56.211779Z",
     "start_time": "2020-06-02T21:43:56.199809Z"
    }
   },
   "outputs": [],
   "source": [
    "df = dataset.copy()"
   ]
  },
  {
   "cell_type": "markdown",
   "metadata": {},
   "source": [
    "# Pre-processing"
   ]
  },
  {
   "cell_type": "markdown",
   "metadata": {},
   "source": [
    "## Première étape: Nettoyage\n",
    "- supprimer :\n",
    "    - toutes les colonnes avec plus de 90% de valeurs manquantes\n",
    "    - Patient ID\n",
    "    - Parainfluenza 2\n",
    "    - Influenza A/B, rapid test\n",
    "- creer viral_columns (0.75 - 0.88) et blood_columns (0.88 - 0.9)\n",
    "- ajout colonne malade\n",
    "- ajout colonne \"statut\" pour la prise en charge (et supprimer ¨\"Patient addmited to...\""
   ]
  },
  {
   "cell_type": "code",
   "execution_count": 59,
   "metadata": {
    "ExecuteTime": {
     "end_time": "2020-06-02T21:43:56.514765Z",
     "start_time": "2020-06-02T21:43:56.491828Z"
    }
   },
   "outputs": [],
   "source": [
    "df = df[df.columns[df.isna().sum() / df.shape[0] < 0.9]]\n",
    "df = df.drop([\"Patient ID\", \"Parainfluenza 2\", \"Influenza A, rapid test\", \"Influenza B, rapid test\"], axis=1)"
   ]
  },
  {
   "cell_type": "code",
   "execution_count": 60,
   "metadata": {
    "ExecuteTime": {
     "end_time": "2020-06-02T21:43:56.821747Z",
     "start_time": "2020-06-02T21:43:56.792822Z"
    }
   },
   "outputs": [],
   "source": [
    "blood_columns = df.columns[(df.isna().sum() / df.shape[0] > 0.88) & (df.isna().sum() / df.shape[0] < 0.9)]\n",
    "viral_columns = df.columns[(df.isna().sum() / df.shape[0] > 0.75) & (df.isna().sum() / df.shape[0] < 0.88)]"
   ]
  },
  {
   "cell_type": "code",
   "execution_count": 61,
   "metadata": {
    "ExecuteTime": {
     "end_time": "2020-06-02T21:43:57.123935Z",
     "start_time": "2020-06-02T21:43:57.108977Z"
    }
   },
   "outputs": [],
   "source": [
    "df[\"malade\"] = np.sum(df[viral_columns] == \"detected\", axis=1) >= 1"
   ]
  },
  {
   "cell_type": "code",
   "execution_count": 62,
   "metadata": {
    "ExecuteTime": {
     "end_time": "2020-06-02T21:43:57.637574Z",
     "start_time": "2020-06-02T21:43:57.398203Z"
    }
   },
   "outputs": [],
   "source": [
    "def hospitalisation(df):\n",
    "    if df[\"Patient addmited to regular ward (1=yes, 0=no)\"] == 1:\n",
    "        return \"surveillance\"\n",
    "    elif df[\"Patient addmited to semi-intensive unit (1=yes, 0=no)\"] == 1:\n",
    "        return \"soins semi-intensifs\"\n",
    "    elif df[\"Patient addmited to intensive care unit (1=yes, 0=no)\"] == 1:\n",
    "        return \"soins intensifs\"\n",
    "    else:\n",
    "        return \"inconnu\"\n",
    "\n",
    "df[\"statut\"] = df.apply(hospitalisation, axis=1)"
   ]
  },
  {
   "cell_type": "markdown",
   "metadata": {},
   "source": [
    "On peut maintenant drop les colonnes \"Patient addmited to...\""
   ]
  },
  {
   "cell_type": "code",
   "execution_count": 63,
   "metadata": {
    "ExecuteTime": {
     "end_time": "2020-06-02T21:43:57.939348Z",
     "start_time": "2020-06-02T21:43:57.927379Z"
    }
   },
   "outputs": [],
   "source": [
    "df = df.drop([\"Patient addmited to regular ward (1=yes, 0=no)\",\n",
    "              \"Patient addmited to semi-intensive unit (1=yes, 0=no)\",\n",
    "              \"Patient addmited to intensive care unit (1=yes, 0=no)\"], axis=1)"
   ]
  },
  {
   "cell_type": "markdown",
   "metadata": {},
   "source": [
    "Création des listes de colonnes target et features"
   ]
  },
  {
   "cell_type": "code",
   "execution_count": 64,
   "metadata": {
    "ExecuteTime": {
     "end_time": "2020-06-02T21:43:58.244046Z",
     "start_time": "2020-06-02T21:43:58.239060Z"
    }
   },
   "outputs": [],
   "source": [
    "target_column = \"SARS-Cov-2 exam result\"\n",
    "\n",
    "features_columns = list(df.columns)\n",
    "features_columns.remove(target_column)"
   ]
  },
  {
   "cell_type": "markdown",
   "metadata": {},
   "source": [
    "## Decoupage train set - test set"
   ]
  },
  {
   "cell_type": "code",
   "execution_count": 89,
   "metadata": {
    "ExecuteTime": {
     "end_time": "2020-06-02T21:53:11.527834Z",
     "start_time": "2020-06-02T21:53:11.520854Z"
    }
   },
   "outputs": [],
   "source": [
    "X = df[features_columns]\n",
    "y = df[target_column]"
   ]
  },
  {
   "cell_type": "code",
   "execution_count": 90,
   "metadata": {
    "ExecuteTime": {
     "end_time": "2020-06-02T21:53:12.069122Z",
     "start_time": "2020-06-02T21:53:12.054190Z"
    }
   },
   "outputs": [
    {
     "name": "stdout",
     "output_type": "stream",
     "text": [
      "(5079, 33) (5079,)\n",
      "(565, 33) (565,)\n"
     ]
    }
   ],
   "source": [
    "X_train, X_test, y_train, y_test = train_test_split(X, y, test_size=0.1, stratify=y)\n",
    "\n",
    "print(X_train.shape, y_train.shape)\n",
    "print(X_test.shape, y_test.shape)"
   ]
  },
  {
   "cell_type": "markdown",
   "metadata": {},
   "source": [
    "## Remplacement des NaN, encodage\n",
    "\n",
    "- target : encodage ordinal\n",
    "- viral_columns : 1 si detected, 0 sinon\n",
    "- blood_columns : moyenne / mode / mediane\n",
    "- malade :\n",
    "- statut : "
   ]
  },
  {
   "cell_type": "markdown",
   "metadata": {},
   "source": [
    "### target\n",
    "\n",
    "On applique un encodage ordinal."
   ]
  },
  {
   "cell_type": "code",
   "execution_count": 92,
   "metadata": {
    "ExecuteTime": {
     "end_time": "2020-06-02T21:53:20.060741Z",
     "start_time": "2020-06-02T21:53:20.052758Z"
    }
   },
   "outputs": [
    {
     "data": {
      "text/plain": [
       "negative    4577\n",
       "positive     502\n",
       "Name: SARS-Cov-2 exam result, dtype: int64"
      ]
     },
     "execution_count": 92,
     "metadata": {},
     "output_type": "execute_result"
    }
   ],
   "source": [
    "y_train.value_counts()"
   ]
  },
  {
   "cell_type": "code",
   "execution_count": 93,
   "metadata": {
    "ExecuteTime": {
     "end_time": "2020-06-02T21:53:26.768485Z",
     "start_time": "2020-06-02T21:53:26.763498Z"
    }
   },
   "outputs": [],
   "source": [
    "target_encoder = LabelEncoder()\n",
    "y_train = target_encoder.fit_transform(y_train)"
   ]
  },
  {
   "cell_type": "markdown",
   "metadata": {},
   "source": [
    "On voit que 0 : négatif, 1 : positif."
   ]
  },
  {
   "cell_type": "code",
   "execution_count": 99,
   "metadata": {
    "ExecuteTime": {
     "end_time": "2020-06-02T21:54:16.948708Z",
     "start_time": "2020-06-02T21:54:16.939733Z"
    }
   },
   "outputs": [
    {
     "data": {
      "text/plain": [
       "(array([0, 1]), array([4577,  502], dtype=int64))"
      ]
     },
     "execution_count": 99,
     "metadata": {},
     "output_type": "execute_result"
    }
   ],
   "source": [
    "np.unique(y_train, return_counts=True)"
   ]
  },
  {
   "cell_type": "markdown",
   "metadata": {},
   "source": [
    "### viral columns\n",
    "\n",
    "- on remplace les NaN par \"not_detected\" avec un SimpleImputer\n",
    "- on applique un encodage ordinal"
   ]
  },
  {
   "cell_type": "code",
   "execution_count": 100,
   "metadata": {
    "ExecuteTime": {
     "end_time": "2020-06-02T21:54:39.622248Z",
     "start_time": "2020-06-02T21:54:39.599269Z"
    }
   },
   "outputs": [
    {
     "name": "stderr",
     "output_type": "stream",
     "text": [
      "<ipython-input-100-aaca8f005f80>:2: SettingWithCopyWarning: \n",
      "A value is trying to be set on a copy of a slice from a DataFrame.\n",
      "Try using .loc[row_indexer,col_indexer] = value instead\n",
      "\n",
      "See the caveats in the documentation: https://pandas.pydata.org/pandas-docs/stable/user_guide/indexing.html#returning-a-view-versus-a-copy\n",
      "  X_train[viral_columns] = viral_imputer.fit_transform(X_train[viral_columns])\n",
      "C:\\Users\\Stephane\\anaconda3\\envs\\datascience\\lib\\site-packages\\pandas\\core\\indexing.py:966: SettingWithCopyWarning: \n",
      "A value is trying to be set on a copy of a slice from a DataFrame.\n",
      "Try using .loc[row_indexer,col_indexer] = value instead\n",
      "\n",
      "See the caveats in the documentation: https://pandas.pydata.org/pandas-docs/stable/user_guide/indexing.html#returning-a-view-versus-a-copy\n",
      "  self.obj[item] = s\n"
     ]
    }
   ],
   "source": [
    "viral_imputer = SimpleImputer(strategy=\"constant\", fill_value=\"not_detected\")\n",
    "X_train[viral_columns] = viral_imputer.fit_transform(X_train[viral_columns])"
   ]
  },
  {
   "cell_type": "code",
   "execution_count": 101,
   "metadata": {
    "ExecuteTime": {
     "end_time": "2020-06-02T21:54:40.109832Z",
     "start_time": "2020-06-02T21:54:40.030045Z"
    }
   },
   "outputs": [
    {
     "name": "stderr",
     "output_type": "stream",
     "text": [
      "<ipython-input-101-34650c9b7b5a>:2: SettingWithCopyWarning: \n",
      "A value is trying to be set on a copy of a slice from a DataFrame.\n",
      "Try using .loc[row_indexer,col_indexer] = value instead\n",
      "\n",
      "See the caveats in the documentation: https://pandas.pydata.org/pandas-docs/stable/user_guide/indexing.html#returning-a-view-versus-a-copy\n",
      "  X_train[viral_columns] = viral_encoder.fit_transform(X_train[viral_columns])\n",
      "C:\\Users\\Stephane\\anaconda3\\envs\\datascience\\lib\\site-packages\\pandas\\core\\indexing.py:966: SettingWithCopyWarning: \n",
      "A value is trying to be set on a copy of a slice from a DataFrame.\n",
      "Try using .loc[row_indexer,col_indexer] = value instead\n",
      "\n",
      "See the caveats in the documentation: https://pandas.pydata.org/pandas-docs/stable/user_guide/indexing.html#returning-a-view-versus-a-copy\n",
      "  self.obj[item] = s\n"
     ]
    }
   ],
   "source": [
    "viral_encoder = OrdinalEncoder()\n",
    "X_train[viral_columns] = viral_encoder.fit_transform(X_train[viral_columns])"
   ]
  },
  {
   "cell_type": "markdown",
   "metadata": {},
   "source": [
    "### blood colomns\n",
    "\n",
    "On choisit de remplacer les valeurs manquantes par le mode. Possiblement un choix à optimiser dans une pipeline avec un gridsearch plus tard."
   ]
  },
  {
   "cell_type": "code",
   "execution_count": 102,
   "metadata": {
    "ExecuteTime": {
     "end_time": "2020-06-02T21:54:42.221934Z",
     "start_time": "2020-06-02T21:54:42.185021Z"
    }
   },
   "outputs": [
    {
     "name": "stderr",
     "output_type": "stream",
     "text": [
      "C:\\Users\\Stephane\\anaconda3\\envs\\datascience\\lib\\site-packages\\pandas\\core\\indexing.py:966: SettingWithCopyWarning: \n",
      "A value is trying to be set on a copy of a slice from a DataFrame.\n",
      "Try using .loc[row_indexer,col_indexer] = value instead\n",
      "\n",
      "See the caveats in the documentation: https://pandas.pydata.org/pandas-docs/stable/user_guide/indexing.html#returning-a-view-versus-a-copy\n",
      "  self.obj[item] = s\n"
     ]
    }
   ],
   "source": [
    "blood_imputer = SimpleImputer(strategy=\"most_frequent\")\n",
    "X_train.loc[:, blood_columns] = blood_imputer.fit_transform(X_train.loc[:, blood_columns])"
   ]
  },
  {
   "cell_type": "markdown",
   "metadata": {},
   "source": [
    "### malade column\n",
    "\n",
    "On a des booléens, on utilise un encodage ordinal."
   ]
  },
  {
   "cell_type": "code",
   "execution_count": 104,
   "metadata": {
    "ExecuteTime": {
     "end_time": "2020-06-02T21:54:45.488647Z",
     "start_time": "2020-06-02T21:54:45.477696Z"
    }
   },
   "outputs": [
    {
     "name": "stderr",
     "output_type": "stream",
     "text": [
      "<ipython-input-104-d3f11cbd4c80>:2: SettingWithCopyWarning: \n",
      "A value is trying to be set on a copy of a slice from a DataFrame.\n",
      "Try using .loc[row_indexer,col_indexer] = value instead\n",
      "\n",
      "See the caveats in the documentation: https://pandas.pydata.org/pandas-docs/stable/user_guide/indexing.html#returning-a-view-versus-a-copy\n",
      "  X_train[[\"malade\"]] = malade_encoder.fit_transform(X_train[[\"malade\"]])\n",
      "C:\\Users\\Stephane\\anaconda3\\envs\\datascience\\lib\\site-packages\\pandas\\core\\indexing.py:966: SettingWithCopyWarning: \n",
      "A value is trying to be set on a copy of a slice from a DataFrame.\n",
      "Try using .loc[row_indexer,col_indexer] = value instead\n",
      "\n",
      "See the caveats in the documentation: https://pandas.pydata.org/pandas-docs/stable/user_guide/indexing.html#returning-a-view-versus-a-copy\n",
      "  self.obj[item] = s\n"
     ]
    }
   ],
   "source": [
    "malade_encoder = OrdinalEncoder()\n",
    "X_train[[\"malade\"]] = malade_encoder.fit_transform(X_train[[\"malade\"]])"
   ]
  },
  {
   "cell_type": "markdown",
   "metadata": {},
   "source": [
    "### statut column\n",
    "\n",
    "Encore une fois on va utiliser un encodage ordinal, dans le sens où effectivement il y a un classement entre les classes (soins intensifs est pire que semi-intensifs, qui lui même est pire que surveillance). Par contre la classe inconnu n'est pas forcément adaptée pour cet encodage."
   ]
  },
  {
   "cell_type": "code",
   "execution_count": 105,
   "metadata": {
    "ExecuteTime": {
     "end_time": "2020-06-02T21:54:48.059053Z",
     "start_time": "2020-06-02T21:54:48.052071Z"
    }
   },
   "outputs": [
    {
     "data": {
      "text/plain": [
       "inconnu                 4925\n",
       "surveillance              74\n",
       "soins semi-intensifs      48\n",
       "soins intensifs           32\n",
       "Name: statut, dtype: int64"
      ]
     },
     "execution_count": 105,
     "metadata": {},
     "output_type": "execute_result"
    }
   ],
   "source": [
    "X_train[\"statut\"].value_counts()"
   ]
  },
  {
   "cell_type": "code",
   "execution_count": 106,
   "metadata": {
    "ExecuteTime": {
     "end_time": "2020-06-02T21:54:48.422081Z",
     "start_time": "2020-06-02T21:54:48.410113Z"
    }
   },
   "outputs": [
    {
     "name": "stderr",
     "output_type": "stream",
     "text": [
      "<ipython-input-106-51ea17fb9d9c>:2: SettingWithCopyWarning: \n",
      "A value is trying to be set on a copy of a slice from a DataFrame.\n",
      "Try using .loc[row_indexer,col_indexer] = value instead\n",
      "\n",
      "See the caveats in the documentation: https://pandas.pydata.org/pandas-docs/stable/user_guide/indexing.html#returning-a-view-versus-a-copy\n",
      "  X_train[[\"statut\"]] = statut_encoder.fit_transform(X_train[[\"statut\"]])\n",
      "C:\\Users\\Stephane\\anaconda3\\envs\\datascience\\lib\\site-packages\\pandas\\core\\indexing.py:966: SettingWithCopyWarning: \n",
      "A value is trying to be set on a copy of a slice from a DataFrame.\n",
      "Try using .loc[row_indexer,col_indexer] = value instead\n",
      "\n",
      "See the caveats in the documentation: https://pandas.pydata.org/pandas-docs/stable/user_guide/indexing.html#returning-a-view-versus-a-copy\n",
      "  self.obj[item] = s\n"
     ]
    }
   ],
   "source": [
    "statut_encoder = OrdinalEncoder()\n",
    "X_train[[\"statut\"]] = statut_encoder.fit_transform(X_train[[\"statut\"]])"
   ]
  },
  {
   "cell_type": "markdown",
   "metadata": {},
   "source": [
    "Problème: l'ordre n'est pas respecté. A modifier."
   ]
  },
  {
   "cell_type": "code",
   "execution_count": 107,
   "metadata": {
    "ExecuteTime": {
     "end_time": "2020-06-02T21:54:48.902829Z",
     "start_time": "2020-06-02T21:54:48.892822Z"
    }
   },
   "outputs": [
    {
     "data": {
      "text/plain": [
       "0.0    4925\n",
       "3.0      74\n",
       "2.0      48\n",
       "1.0      32\n",
       "Name: statut, dtype: int64"
      ]
     },
     "execution_count": 107,
     "metadata": {},
     "output_type": "execute_result"
    }
   ],
   "source": [
    "X_train[\"statut\"].value_counts()"
   ]
  },
  {
   "cell_type": "markdown",
   "metadata": {},
   "source": [
    "## Pipeline de preprocessing\n",
    "\n",
    "On utilise make_column blablabla pour insérer tout ce qu'on a ci-dessus"
   ]
  },
  {
   "cell_type": "markdown",
   "metadata": {},
   "source": [
    "## Suppression des outliers\n",
    "\n",
    "Vaut mieux le faire après avoir déjà développé un premier modèle pour étudier l'effet des outliers"
   ]
  },
  {
   "cell_type": "markdown",
   "metadata": {},
   "source": [
    "## Feature Selection\n",
    "\n",
    "On veut éliminer les variables redondantes et les variables avec une faible variance"
   ]
  },
  {
   "cell_type": "markdown",
   "metadata": {},
   "source": [
    "## Feature Engineering\n",
    "\n",
    "Avec connaissances métier, ou tout simplement PolynomialFeatures; pourquoi pas utiliser un PCA après, une fois que les données sont standardisées"
   ]
  },
  {
   "cell_type": "markdown",
   "metadata": {},
   "source": [
    "## Feature Scaling"
   ]
  },
  {
   "cell_type": "markdown",
   "metadata": {},
   "source": [
    "## Tout insérer dans une pipeline"
   ]
  },
  {
   "cell_type": "code",
   "execution_count": 108,
   "metadata": {
    "ExecuteTime": {
     "end_time": "2020-06-02T21:12:38.177397Z",
     "start_time": "2020-06-02T21:12:37.181041Z"
    }
   },
   "outputs": [
    {
     "data": {
      "text/plain": [
       "<matplotlib.axes._subplots.AxesSubplot at 0x26f2ebddd60>"
      ]
     },
     "execution_count": 108,
     "metadata": {},
     "output_type": "execute_result"
    },
    {
     "data": {
      "image/png": "[encoded data removed]",
      "text/plain": [
       "<Figure size 1800x720 with 2 Axes>"
      ]
     },
     "metadata": {
      "needs_background": "light"
     },
     "output_type": "display_data"
    }
   ],
   "source": [
    "msno.matrix(df)"
   ]
  },
  {
   "cell_type": "code",
   "execution_count": null,
   "metadata": {},
   "outputs": [],
   "source": [
    "df"
   ]
  }
 ],
 "metadata": {
  "kernelspec": {
   "display_name": "datascience",
   "language": "python",
   "name": "datascience"
  },
  "language_info": {
   "codemirror_mode": {
    "name": "ipython",
    "version": 3
   },
   "file_extension": ".py",
   "mimetype": "text/x-python",
   "name": "python",
   "nbconvert_exporter": "python",
   "pygments_lexer": "ipython3",
   "version": "3.8.3"
  },
  "toc": {
   "base_numbering": 1,
   "nav_menu": {},
   "number_sections": true,
   "sideBar": true,
   "skip_h1_title": false,
   "title_cell": "Table of Contents",
   "title_sidebar": "Contents",
   "toc_cell": false,
   "toc_position": {},
   "toc_section_display": true,
   "toc_window_display": true
  },
  "varInspector": {
   "cols": {
    "lenName": 16,
    "lenType": 16,
    "lenVar": 40
   },
   "kernels_config": {
    "python": {
     "delete_cmd_postfix": "",
     "delete_cmd_prefix": "del ",
     "library": "var_list.py",
     "varRefreshCmd": "print(var_dic_list())"
    },
    "r": {
     "delete_cmd_postfix": ") ",
     "delete_cmd_prefix": "rm(",
     "library": "var_list.r",
     "varRefreshCmd": "cat(var_dic_list()) "
    }
   },
   "types_to_exclude": [
    "module",
    "function",
    "builtin_function_or_method",
    "instance",
    "_Feature"
   ],
   "window_display": true
  }
 },
 "nbformat": 4,
 "nbformat_minor": 4
}
